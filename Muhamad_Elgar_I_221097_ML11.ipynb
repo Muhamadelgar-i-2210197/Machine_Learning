{
  "nbformat": 4,
  "nbformat_minor": 0,
  "metadata": {
    "colab": {
      "provenance": []
    },
    "kernelspec": {
      "name": "python3",
      "display_name": "Python 3"
    },
    "language_info": {
      "name": "python"
    }
  },
  "cells": [
    {
      "cell_type": "markdown",
      "source": [
        "# **Linear DisCriminant Analysis (LDA)**\n",
        "LDA merupakan teknik reduksi dimensi yang memanfaatkan label kelas untuk memaksimalkan seperasasi antar kelas. <br>\n",
        "\n",
        "Keunggulan :\n",
        "- Memaksimalkan separasi antar kelas\n",
        "- cepat dalam komputasi dan cocok untuk data berukuran kecil\n",
        "- sangat baik untuk klasifikasi daengan jumlah fitur yang besar\n",
        "<br>\n",
        "\n",
        "-------------\n",
        "\n",
        "Dibandingkan PCA yang bisa digunakan untuk regresi maupun klasifikasi. LDA lebih cocol digunakan untuk data klasifikasi namun tidak cocok untuk regeresi.<br>\n",
        "\n",
        "-------------\n",
        "\n",
        "khusus untuk tujuan klasifikasi, LDA dapat membantu menaikan akurasi di bandingkan PCA. jika penggunaan LDA memberikan hasil akurasi lebih rendah dibandingkan PCA, terdapat beberapa kondisi yaitu :    \n",
        "- kelas tidak terbagi rata dengan baik\n",
        "- dataset non linear\n",
        "- Terdapat outlier / noise"
      ],
      "metadata": {
        "id": "Mlpx3OjApVAO"
      }
    },
    {
      "cell_type": "code",
      "execution_count": 16,
      "metadata": {
        "id": "x1ZegG9Im4mj"
      },
      "outputs": [],
      "source": [
        "import numpy as np\n",
        "import matplotlib.pyplot as plt\n",
        "from sklearn.datasets import load_iris\n",
        "from sklearn.decomposition import PCA\n",
        "from sklearn.discriminant_analysis import LinearDiscriminantAnalysis as LDA\n",
        "from sklearn.model_selection import train_test_split\n",
        "from sklearn.metrics import accuracy_score"
      ]
    },
    {
      "cell_type": "code",
      "source": [
        "iris = load_iris()\n",
        "x = iris.data\n",
        "y = iris.target # target berupa label = target ---> label"
      ],
      "metadata": {
        "id": "6TMq-y4utQLJ"
      },
      "execution_count": 17,
      "outputs": []
    },
    {
      "cell_type": "code",
      "source": [
        "y"
      ],
      "metadata": {
        "colab": {
          "base_uri": "https://localhost:8080/"
        },
        "id": "pQdahu9lujk9",
        "outputId": "8ceada2d-5207-4480-a691-d8b4243b7659"
      },
      "execution_count": 18,
      "outputs": [
        {
          "output_type": "execute_result",
          "data": {
            "text/plain": [
              "array([0, 0, 0, 0, 0, 0, 0, 0, 0, 0, 0, 0, 0, 0, 0, 0, 0, 0, 0, 0, 0, 0,\n",
              "       0, 0, 0, 0, 0, 0, 0, 0, 0, 0, 0, 0, 0, 0, 0, 0, 0, 0, 0, 0, 0, 0,\n",
              "       0, 0, 0, 0, 0, 0, 1, 1, 1, 1, 1, 1, 1, 1, 1, 1, 1, 1, 1, 1, 1, 1,\n",
              "       1, 1, 1, 1, 1, 1, 1, 1, 1, 1, 1, 1, 1, 1, 1, 1, 1, 1, 1, 1, 1, 1,\n",
              "       1, 1, 1, 1, 1, 1, 1, 1, 1, 1, 1, 1, 2, 2, 2, 2, 2, 2, 2, 2, 2, 2,\n",
              "       2, 2, 2, 2, 2, 2, 2, 2, 2, 2, 2, 2, 2, 2, 2, 2, 2, 2, 2, 2, 2, 2,\n",
              "       2, 2, 2, 2, 2, 2, 2, 2, 2, 2, 2, 2, 2, 2, 2, 2, 2, 2])"
            ]
          },
          "metadata": {},
          "execution_count": 18
        }
      ]
    },
    {
      "cell_type": "markdown",
      "source": [
        "stratify = y <br>\n",
        "merupakan parameter yang berfungsi untuk memastikan <br>\n",
        "bahwa proporsi label kelas dalam data training dan data  testing sama\n",
        "\n"
      ],
      "metadata": {
        "id": "ITYiIda2uQkA"
      }
    },
    {
      "cell_type": "code",
      "source": [
        "x_train, x_test, y_train, y_test = train_test_split(x, y, random_state=0, stratify= y)"
      ],
      "metadata": {
        "id": "a7UGKZu-t_-k"
      },
      "execution_count": 19,
      "outputs": []
    },
    {
      "cell_type": "markdown",
      "source": [
        "Selanjutnya uji oba digunakan PCA dan LDA tanpa preprocessing standarScaler"
      ],
      "metadata": {
        "id": "fO1LlLffvKPh"
      }
    },
    {
      "cell_type": "code",
      "source": [
        "#random forest Classifier tanpa Pca dan LDA\n",
        "from sklearn.svm import SVC\n",
        "from sklearn.metrics import accuracy_score\n",
        "from sklearn.ensemble import RandomForestClassifier\n",
        "\n",
        "model = RandomForestClassifier(random_state=0)\n",
        "model.fit(x_train, y_train)\n",
        "\n",
        "y_pred = model.predict(x_test)\n",
        "akurasi = accuracy_score(y_test, y_pred)\n",
        "print(f'Hasil Akurasi Menggunakan Random Forest = {akurasi:.2%}')\n"
      ],
      "metadata": {
        "colab": {
          "base_uri": "https://localhost:8080/"
        },
        "id": "Bt3-hp8luNwG",
        "outputId": "4e5311a0-1836-44c4-9ce3-4615716f83db"
      },
      "execution_count": 23,
      "outputs": [
        {
          "output_type": "stream",
          "name": "stdout",
          "text": [
            "Hasil Akurasi Menggunakan Random Forest = 94.74%\n"
          ]
        }
      ]
    },
    {
      "cell_type": "code",
      "source": [
        "#random forest Classifier menggunakan PCA\n",
        "pca = PCA(n_components=2)\n",
        "x_train_pca = pca.fit_transform(x_train)\n",
        "x_test_pca = pca.transform(x_test)\n",
        "\n",
        "model_pca = RandomForestClassifier(random_state=0)\n",
        "model_pca.fit(x_train_pca, y_train)\n",
        "\n",
        "y_pred_pca = model_pca.predict(x_test_pca)\n",
        "akurasi = accuracy_score(y_test, y_pred_pca)\n",
        "print(f'Hasil Akurasi Menggunakan RFC dan PCA = {akurasi:.2%}')\n"
      ],
      "metadata": {
        "colab": {
          "base_uri": "https://localhost:8080/"
        },
        "id": "l8ViKCjFwT1G",
        "outputId": "1d9dd299-3226-4b6b-950b-79a80102376d"
      },
      "execution_count": 31,
      "outputs": [
        {
          "output_type": "stream",
          "name": "stdout",
          "text": [
            "Hasil Akurasi Menggunakan RFC dan PCA = 97.37%\n"
          ]
        }
      ]
    },
    {
      "cell_type": "code",
      "source": [
        "#random forest Classifier menggunakan PCA\n",
        "#syarat -> jumlah komponen < jumlah label\n",
        "#misal jumlah label ada 3 -> berarti jumlah komponennya harus 2 atau 1\n",
        "\n",
        "lda = LDA(n_components=2)\n",
        "x_train_lda = lda.fit_transform(x_train, y_train)\n",
        "x_test_lda = lda.transform(x_test)\n",
        "\n",
        "model_lda = RandomForestClassifier(random_state=0)\n",
        "model_lda.fit(x_train_lda, y_train)\n",
        "\n",
        "y_pred_lda = model_lda.predict(x_test_lda)\n",
        "akurasi = accuracy_score(y_test, y_pred_lda)\n",
        "print(f'Hasil Akurasi Menggunakan RFC dan LDA = {akurasi:.2%}')"
      ],
      "metadata": {
        "colab": {
          "base_uri": "https://localhost:8080/"
        },
        "id": "qtH5VSaRyCHN",
        "outputId": "ac086f8b-eb96-4d33-c405-9a1a6c415229"
      },
      "execution_count": 30,
      "outputs": [
        {
          "output_type": "stream",
          "name": "stdout",
          "text": [
            "Hasil Akurasi Menggunakan RFC dan LDA = 100.00%\n"
          ]
        }
      ]
    },
    {
      "cell_type": "markdown",
      "source": [
        "-------\n",
        "\n",
        "## **Tugas minggu ini sampai Minggu depan** <br>\n",
        "\n",
        "Gunakan data di pertemuan 10 data studen dan hitung memakai LDA\n",
        "\n",
        "--------"
      ],
      "metadata": {
        "id": "q2LtVh_L1cYZ"
      }
    },
    {
      "cell_type": "code",
      "source": [],
      "metadata": {
        "id": "-83I-5nxzmjE"
      },
      "execution_count": null,
      "outputs": []
    }
  ]
}